{
 "cells": [
  {
   "cell_type": "code",
   "execution_count": 1,
   "metadata": {
    "collapsed": true
   },
   "outputs": [
    {
     "name": "stderr",
     "output_type": "stream",
     "text": [
      "Using TensorFlow backend.\n",
      "/Users/priyathambikumalla/opt/anaconda3/lib/python3.7/site-packages/tensorflow/python/framework/dtypes.py:516: FutureWarning: Passing (type, 1) or '1type' as a synonym of type is deprecated; in a future version of numpy, it will be understood as (type, (1,)) / '(1,)type'.\n",
      "  _np_qint8 = np.dtype([(\"qint8\", np.int8, 1)])\n",
      "/Users/priyathambikumalla/opt/anaconda3/lib/python3.7/site-packages/tensorflow/python/framework/dtypes.py:517: FutureWarning: Passing (type, 1) or '1type' as a synonym of type is deprecated; in a future version of numpy, it will be understood as (type, (1,)) / '(1,)type'.\n",
      "  _np_quint8 = np.dtype([(\"quint8\", np.uint8, 1)])\n",
      "/Users/priyathambikumalla/opt/anaconda3/lib/python3.7/site-packages/tensorflow/python/framework/dtypes.py:518: FutureWarning: Passing (type, 1) or '1type' as a synonym of type is deprecated; in a future version of numpy, it will be understood as (type, (1,)) / '(1,)type'.\n",
      "  _np_qint16 = np.dtype([(\"qint16\", np.int16, 1)])\n",
      "/Users/priyathambikumalla/opt/anaconda3/lib/python3.7/site-packages/tensorflow/python/framework/dtypes.py:519: FutureWarning: Passing (type, 1) or '1type' as a synonym of type is deprecated; in a future version of numpy, it will be understood as (type, (1,)) / '(1,)type'.\n",
      "  _np_quint16 = np.dtype([(\"quint16\", np.uint16, 1)])\n",
      "/Users/priyathambikumalla/opt/anaconda3/lib/python3.7/site-packages/tensorflow/python/framework/dtypes.py:520: FutureWarning: Passing (type, 1) or '1type' as a synonym of type is deprecated; in a future version of numpy, it will be understood as (type, (1,)) / '(1,)type'.\n",
      "  _np_qint32 = np.dtype([(\"qint32\", np.int32, 1)])\n",
      "/Users/priyathambikumalla/opt/anaconda3/lib/python3.7/site-packages/tensorflow/python/framework/dtypes.py:525: FutureWarning: Passing (type, 1) or '1type' as a synonym of type is deprecated; in a future version of numpy, it will be understood as (type, (1,)) / '(1,)type'.\n",
      "  np_resource = np.dtype([(\"resource\", np.ubyte, 1)])\n",
      "/Users/priyathambikumalla/opt/anaconda3/lib/python3.7/site-packages/tensorboard/compat/tensorflow_stub/dtypes.py:541: FutureWarning: Passing (type, 1) or '1type' as a synonym of type is deprecated; in a future version of numpy, it will be understood as (type, (1,)) / '(1,)type'.\n",
      "  _np_qint8 = np.dtype([(\"qint8\", np.int8, 1)])\n",
      "/Users/priyathambikumalla/opt/anaconda3/lib/python3.7/site-packages/tensorboard/compat/tensorflow_stub/dtypes.py:542: FutureWarning: Passing (type, 1) or '1type' as a synonym of type is deprecated; in a future version of numpy, it will be understood as (type, (1,)) / '(1,)type'.\n",
      "  _np_quint8 = np.dtype([(\"quint8\", np.uint8, 1)])\n",
      "/Users/priyathambikumalla/opt/anaconda3/lib/python3.7/site-packages/tensorboard/compat/tensorflow_stub/dtypes.py:543: FutureWarning: Passing (type, 1) or '1type' as a synonym of type is deprecated; in a future version of numpy, it will be understood as (type, (1,)) / '(1,)type'.\n",
      "  _np_qint16 = np.dtype([(\"qint16\", np.int16, 1)])\n",
      "/Users/priyathambikumalla/opt/anaconda3/lib/python3.7/site-packages/tensorboard/compat/tensorflow_stub/dtypes.py:544: FutureWarning: Passing (type, 1) or '1type' as a synonym of type is deprecated; in a future version of numpy, it will be understood as (type, (1,)) / '(1,)type'.\n",
      "  _np_quint16 = np.dtype([(\"quint16\", np.uint16, 1)])\n",
      "/Users/priyathambikumalla/opt/anaconda3/lib/python3.7/site-packages/tensorboard/compat/tensorflow_stub/dtypes.py:545: FutureWarning: Passing (type, 1) or '1type' as a synonym of type is deprecated; in a future version of numpy, it will be understood as (type, (1,)) / '(1,)type'.\n",
      "  _np_qint32 = np.dtype([(\"qint32\", np.int32, 1)])\n",
      "/Users/priyathambikumalla/opt/anaconda3/lib/python3.7/site-packages/tensorboard/compat/tensorflow_stub/dtypes.py:550: FutureWarning: Passing (type, 1) or '1type' as a synonym of type is deprecated; in a future version of numpy, it will be understood as (type, (1,)) / '(1,)type'.\n",
      "  np_resource = np.dtype([(\"resource\", np.ubyte, 1)])\n"
     ]
    }
   ],
   "source": [
    "from keras.models import Sequential\n",
    "from keras.layers import Dense\n",
    "from keras.layers import Convolution2D\n",
    "from keras.layers import MaxPooling2D\n",
    "from keras.layers import Flatten"
   ]
  },
  {
   "cell_type": "markdown",
   "metadata": {},
   "source": [
    "# Model Building"
   ]
  },
  {
   "cell_type": "code",
   "execution_count": 2,
   "metadata": {},
   "outputs": [
    {
     "name": "stdout",
     "output_type": "stream",
     "text": [
      "WARNING:tensorflow:From /Users/priyathambikumalla/opt/anaconda3/lib/python3.7/site-packages/keras/backend/tensorflow_backend.py:74: The name tf.get_default_graph is deprecated. Please use tf.compat.v1.get_default_graph instead.\n",
      "\n"
     ]
    }
   ],
   "source": [
    "model=Sequential()"
   ]
  },
  {
   "cell_type": "code",
   "execution_count": 3,
   "metadata": {},
   "outputs": [
    {
     "name": "stdout",
     "output_type": "stream",
     "text": [
      "WARNING:tensorflow:From /Users/priyathambikumalla/opt/anaconda3/lib/python3.7/site-packages/keras/backend/tensorflow_backend.py:517: The name tf.placeholder is deprecated. Please use tf.compat.v1.placeholder instead.\n",
      "\n",
      "WARNING:tensorflow:From /Users/priyathambikumalla/opt/anaconda3/lib/python3.7/site-packages/keras/backend/tensorflow_backend.py:4138: The name tf.random_uniform is deprecated. Please use tf.random.uniform instead.\n",
      "\n"
     ]
    }
   ],
   "source": [
    "model.add(Convolution2D(32,(3,3),input_shape=(64,64,3)))"
   ]
  },
  {
   "cell_type": "code",
   "execution_count": 4,
   "metadata": {},
   "outputs": [
    {
     "name": "stdout",
     "output_type": "stream",
     "text": [
      "WARNING:tensorflow:From /Users/priyathambikumalla/opt/anaconda3/lib/python3.7/site-packages/keras/backend/tensorflow_backend.py:3976: The name tf.nn.max_pool is deprecated. Please use tf.nn.max_pool2d instead.\n",
      "\n"
     ]
    }
   ],
   "source": [
    "model.add(MaxPooling2D(pool_size=(2,2)))"
   ]
  },
  {
   "cell_type": "code",
   "execution_count": 5,
   "metadata": {},
   "outputs": [],
   "source": [
    "#input layer \n",
    "model.add(Flatten())"
   ]
  },
  {
   "cell_type": "code",
   "execution_count": 6,
   "metadata": {},
   "outputs": [
    {
     "name": "stderr",
     "output_type": "stream",
     "text": [
      "/Users/priyathambikumalla/opt/anaconda3/lib/python3.7/site-packages/ipykernel_launcher.py:2: UserWarning: Update your `Dense` call to the Keras 2 API: `Dense(units=128, activation=\"relu\", kernel_initializer=\"uniform\")`\n",
      "  \n"
     ]
    }
   ],
   "source": [
    "#hidden layer\n",
    "model.add(Dense(units=128,init='uniform',activation=\"relu\"))"
   ]
  },
  {
   "cell_type": "code",
   "execution_count": 7,
   "metadata": {},
   "outputs": [],
   "source": [
    "#output layer\n",
    "model.add(Dense(units=4,activation=\"softmax\"))"
   ]
  },
  {
   "cell_type": "markdown",
   "metadata": {},
   "source": [
    "# Preprocessing image"
   ]
  },
  {
   "cell_type": "code",
   "execution_count": 8,
   "metadata": {},
   "outputs": [],
   "source": [
    "from keras.preprocessing.image import ImageDataGenerator"
   ]
  },
  {
   "cell_type": "code",
   "execution_count": 9,
   "metadata": {},
   "outputs": [],
   "source": [
    "train_datagen=ImageDataGenerator(rescale=1./255,shear_range=0.2,zoom_range=0.2,horizontal_flip=True)"
   ]
  },
  {
   "cell_type": "code",
   "execution_count": 10,
   "metadata": {},
   "outputs": [
    {
     "name": "stdout",
     "output_type": "stream",
     "text": [
      "Found 279 images belonging to 4 classes.\n"
     ]
    }
   ],
   "source": [
    "x_train=train_datagen.flow_from_directory('/Users/priyathambikumalla/Desktop/nutrition/final_dataset/trainset',target_size=(64,64),batch_size=32,class_mode=\"categorical\")"
   ]
  },
  {
   "cell_type": "code",
   "execution_count": 11,
   "metadata": {},
   "outputs": [
    {
     "name": "stdout",
     "output_type": "stream",
     "text": [
      "{'apple': 0, 'banana': 1, 'mango': 2, 'orange': 3}\n"
     ]
    }
   ],
   "source": [
    "print(x_train.class_indices)"
   ]
  },
  {
   "cell_type": "code",
   "execution_count": 12,
   "metadata": {},
   "outputs": [],
   "source": [
    "test_datagen=ImageDataGenerator(rescale=1./255)"
   ]
  },
  {
   "cell_type": "code",
   "execution_count": 13,
   "metadata": {},
   "outputs": [
    {
     "name": "stdout",
     "output_type": "stream",
     "text": [
      "Found 120 images belonging to 4 classes.\n"
     ]
    }
   ],
   "source": [
    "x_test=test_datagen.flow_from_directory('/Users/priyathambikumalla/Desktop/nutrition/final_dataset/testset',target_size=(64,64),batch_size=32,class_mode=\"categorical\")"
   ]
  },
  {
   "cell_type": "markdown",
   "metadata": {},
   "source": [
    "# Training model"
   ]
  },
  {
   "cell_type": "code",
   "execution_count": 14,
   "metadata": {},
   "outputs": [
    {
     "name": "stdout",
     "output_type": "stream",
     "text": [
      "WARNING:tensorflow:From /Users/priyathambikumalla/opt/anaconda3/lib/python3.7/site-packages/keras/optimizers.py:790: The name tf.train.Optimizer is deprecated. Please use tf.compat.v1.train.Optimizer instead.\n",
      "\n",
      "WARNING:tensorflow:From /Users/priyathambikumalla/opt/anaconda3/lib/python3.7/site-packages/keras/backend/tensorflow_backend.py:3295: The name tf.log is deprecated. Please use tf.math.log instead.\n",
      "\n"
     ]
    }
   ],
   "source": [
    "model.compile(optimizer='adam',loss='categorical_crossentropy',metrics=['accuracy'])"
   ]
  },
  {
   "cell_type": "code",
   "execution_count": 15,
   "metadata": {},
   "outputs": [
    {
     "name": "stdout",
     "output_type": "stream",
     "text": [
      "WARNING:tensorflow:From /Users/priyathambikumalla/opt/anaconda3/lib/python3.7/site-packages/tensorflow/python/ops/math_grad.py:1250: add_dispatch_support.<locals>.wrapper (from tensorflow.python.ops.array_ops) is deprecated and will be removed in a future version.\n",
      "Instructions for updating:\n",
      "Use tf.where in 2.0, which has the same broadcast rule as np.where\n",
      "WARNING:tensorflow:From /Users/priyathambikumalla/opt/anaconda3/lib/python3.7/site-packages/keras/backend/tensorflow_backend.py:986: The name tf.assign_add is deprecated. Please use tf.compat.v1.assign_add instead.\n",
      "\n",
      "Epoch 1/31\n",
      "4/9 [============>.................] - ETA: 2s - loss: 6.1130 - acc: 0.2500"
     ]
    },
    {
     "name": "stderr",
     "output_type": "stream",
     "text": [
      "/Users/priyathambikumalla/opt/anaconda3/lib/python3.7/site-packages/PIL/Image.py:932: UserWarning: Palette images with Transparency expressed in bytes should be converted to RGBA images\n",
      "  \"Palette images with Transparency expressed in bytes should be \"\n"
     ]
    },
    {
     "name": "stdout",
     "output_type": "stream",
     "text": [
      "9/9 [==============================] - 5s 521ms/step - loss: 5.4923 - acc: 0.3245 - val_loss: 4.1428 - val_acc: 0.4250\n",
      "Epoch 2/31\n",
      "9/9 [==============================] - 3s 340ms/step - loss: 1.7156 - acc: 0.4933 - val_loss: 1.2931 - val_acc: 0.4917\n",
      "Epoch 3/31\n",
      "9/9 [==============================] - 3s 383ms/step - loss: 0.9343 - acc: 0.5978 - val_loss: 1.0025 - val_acc: 0.6583\n",
      "Epoch 4/31\n",
      "9/9 [==============================] - 3s 353ms/step - loss: 0.7606 - acc: 0.6769 - val_loss: 1.0116 - val_acc: 0.6333\n",
      "Epoch 5/31\n",
      "9/9 [==============================] - 3s 374ms/step - loss: 0.6537 - acc: 0.7246 - val_loss: 0.9051 - val_acc: 0.6250\n",
      "Epoch 6/31\n",
      "9/9 [==============================] - 3s 372ms/step - loss: 0.5981 - acc: 0.7661 - val_loss: 0.8403 - val_acc: 0.6750\n",
      "Epoch 7/31\n",
      "9/9 [==============================] - 3s 349ms/step - loss: 0.5089 - acc: 0.7628 - val_loss: 0.9478 - val_acc: 0.6333\n",
      "Epoch 8/31\n",
      "9/9 [==============================] - 3s 349ms/step - loss: 0.4619 - acc: 0.7838 - val_loss: 0.8850 - val_acc: 0.6667\n",
      "Epoch 9/31\n",
      "9/9 [==============================] - 3s 351ms/step - loss: 0.4938 - acc: 0.8023 - val_loss: 0.9747 - val_acc: 0.6583\n",
      "Epoch 10/31\n",
      "9/9 [==============================] - 4s 425ms/step - loss: 0.4147 - acc: 0.8349 - val_loss: 0.9476 - val_acc: 0.6583\n",
      "Epoch 11/31\n",
      "9/9 [==============================] - 4s 431ms/step - loss: 0.4508 - acc: 0.8047 - val_loss: 0.8768 - val_acc: 0.6083\n",
      "Epoch 12/31\n",
      "9/9 [==============================] - 3s 376ms/step - loss: 0.4583 - acc: 0.8093 - val_loss: 0.9910 - val_acc: 0.6500\n",
      "Epoch 13/31\n",
      "9/9 [==============================] - 3s 354ms/step - loss: 0.3323 - acc: 0.8744 - val_loss: 0.9625 - val_acc: 0.6583\n",
      "Epoch 14/31\n",
      "9/9 [==============================] - 3s 350ms/step - loss: 0.3831 - acc: 0.8722 - val_loss: 0.9856 - val_acc: 0.6250\n",
      "Epoch 15/31\n",
      "9/9 [==============================] - 3s 348ms/step - loss: 0.3619 - acc: 0.8591 - val_loss: 1.0182 - val_acc: 0.6167\n",
      "Epoch 16/31\n",
      "9/9 [==============================] - 4s 423ms/step - loss: 0.3260 - acc: 0.8896 - val_loss: 0.9136 - val_acc: 0.6583\n",
      "Epoch 17/31\n",
      "9/9 [==============================] - 3s 355ms/step - loss: 0.3056 - acc: 0.8931 - val_loss: 1.0239 - val_acc: 0.6500\n",
      "Epoch 18/31\n",
      "9/9 [==============================] - 3s 351ms/step - loss: 0.2716 - acc: 0.9035 - val_loss: 1.1553 - val_acc: 0.5917\n",
      "Epoch 19/31\n",
      "9/9 [==============================] - 3s 363ms/step - loss: 0.2647 - acc: 0.9164 - val_loss: 0.9736 - val_acc: 0.6750\n",
      "Epoch 20/31\n",
      "9/9 [==============================] - 3s 359ms/step - loss: 0.2210 - acc: 0.9291 - val_loss: 0.9513 - val_acc: 0.6750\n",
      "Epoch 21/31\n",
      "9/9 [==============================] - 3s 345ms/step - loss: 0.1756 - acc: 0.9570 - val_loss: 1.0769 - val_acc: 0.6750\n",
      "Epoch 22/31\n",
      "9/9 [==============================] - 3s 347ms/step - loss: 0.1803 - acc: 0.9512 - val_loss: 1.1007 - val_acc: 0.6500\n",
      "Epoch 23/31\n",
      "9/9 [==============================] - 3s 349ms/step - loss: 0.1788 - acc: 0.9453 - val_loss: 1.0917 - val_acc: 0.6667\n",
      "Epoch 24/31\n",
      "9/9 [==============================] - 3s 352ms/step - loss: 0.1790 - acc: 0.9326 - val_loss: 1.0499 - val_acc: 0.6500\n",
      "Epoch 25/31\n",
      "9/9 [==============================] - 3s 364ms/step - loss: 0.2177 - acc: 0.9209 - val_loss: 1.3703 - val_acc: 0.6000\n",
      "Epoch 26/31\n",
      "9/9 [==============================] - 4s 425ms/step - loss: 0.2043 - acc: 0.9303 - val_loss: 1.2266 - val_acc: 0.6500\n",
      "Epoch 27/31\n",
      "9/9 [==============================] - 3s 384ms/step - loss: 0.2673 - acc: 0.9209 - val_loss: 1.1843 - val_acc: 0.6750\n",
      "Epoch 28/31\n",
      "9/9 [==============================] - 3s 353ms/step - loss: 0.1941 - acc: 0.9279 - val_loss: 1.0935 - val_acc: 0.6750\n",
      "Epoch 29/31\n",
      "9/9 [==============================] - 3s 356ms/step - loss: 0.1928 - acc: 0.9291 - val_loss: 1.2447 - val_acc: 0.6333\n",
      "Epoch 30/31\n",
      "9/9 [==============================] - 3s 361ms/step - loss: 0.1667 - acc: 0.9430 - val_loss: 1.3663 - val_acc: 0.6250\n",
      "Epoch 31/31\n",
      "9/9 [==============================] - 3s 360ms/step - loss: 0.1536 - acc: 0.9500 - val_loss: 1.1084 - val_acc: 0.6500\n"
     ]
    },
    {
     "data": {
      "text/plain": [
       "<keras.callbacks.History at 0x63229e990>"
      ]
     },
     "execution_count": 15,
     "metadata": {},
     "output_type": "execute_result"
    }
   ],
   "source": [
    "#steps per epoch=279/32;validation_step=120/32\n",
    "model.fit_generator(x_train,steps_per_epoch=9,epochs=31,validation_data=x_test,validation_steps=4)"
   ]
  },
  {
   "cell_type": "code",
   "execution_count": 1,
   "metadata": {},
   "outputs": [
    {
     "ename": "NameError",
     "evalue": "name 'model' is not defined",
     "output_type": "error",
     "traceback": [
      "\u001b[0;31m---------------------------------------------------------------------------\u001b[0m",
      "\u001b[0;31mNameError\u001b[0m                                 Traceback (most recent call last)",
      "\u001b[0;32m<ipython-input-1-633c5b200783>\u001b[0m in \u001b[0;36m<module>\u001b[0;34m\u001b[0m\n\u001b[0;32m----> 1\u001b[0;31m \u001b[0mmodel\u001b[0m\u001b[0;34m.\u001b[0m\u001b[0msave\u001b[0m\u001b[0;34m(\u001b[0m\u001b[0;34m'fruit_predict.h5'\u001b[0m\u001b[0;34m)\u001b[0m\u001b[0;34m\u001b[0m\u001b[0;34m\u001b[0m\u001b[0m\n\u001b[0m",
      "\u001b[0;31mNameError\u001b[0m: name 'model' is not defined"
     ]
    }
   ],
   "source": [
    "model.save('fruit_predict.h5')"
   ]
  },
  {
   "cell_type": "code",
   "execution_count": 18,
   "metadata": {},
   "outputs": [],
   "source": [
    "#working fine# [update-GN 04:42]"
   ]
  },
  {
   "cell_type": "code",
   "execution_count": null,
   "metadata": {},
   "outputs": [],
   "source": []
  }
 ],
 "metadata": {
  "kernelspec": {
   "display_name": "Python 3",
   "language": "python",
   "name": "python3"
  },
  "language_info": {
   "codemirror_mode": {
    "name": "ipython",
    "version": 3
   },
   "file_extension": ".py",
   "mimetype": "text/x-python",
   "name": "python",
   "nbconvert_exporter": "python",
   "pygments_lexer": "ipython3",
   "version": "3.7.6"
  }
 },
 "nbformat": 4,
 "nbformat_minor": 4
}
